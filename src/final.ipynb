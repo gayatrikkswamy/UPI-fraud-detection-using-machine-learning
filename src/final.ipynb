{
 "cells": [
  {
   "cell_type": "markdown",
   "metadata": {},
   "source": [
    "# BUILDING THE TRAINED MODEL"
   ]
  },
  {
   "cell_type": "markdown",
   "metadata": {},
   "source": [
    "DATA PREPROCESSING"
   ]
  },
  {
   "cell_type": "code",
   "execution_count": 1,
   "metadata": {},
   "outputs": [],
   "source": [
    "import pandas as pd"
   ]
  },
  {
   "cell_type": "code",
   "execution_count": 2,
   "metadata": {},
   "outputs": [],
   "source": [
    "dataset = pd.read_csv('../dataset/upi_fraud_dataset.csv', index_col = 0)"
   ]
  },
  {
   "cell_type": "code",
   "execution_count": 3,
   "metadata": {},
   "outputs": [
    {
     "data": {
      "text/html": [
       "<div>\n",
       "<style scoped>\n",
       "    .dataframe tbody tr th:only-of-type {\n",
       "        vertical-align: middle;\n",
       "    }\n",
       "\n",
       "    .dataframe tbody tr th {\n",
       "        vertical-align: top;\n",
       "    }\n",
       "\n",
       "    .dataframe thead th {\n",
       "        text-align: right;\n",
       "    }\n",
       "</style>\n",
       "<table border=\"1\" class=\"dataframe\">\n",
       "  <thead>\n",
       "    <tr style=\"text-align: right;\">\n",
       "      <th></th>\n",
       "      <th>trans_hour</th>\n",
       "      <th>trans_day</th>\n",
       "      <th>trans_month</th>\n",
       "      <th>trans_year</th>\n",
       "      <th>category</th>\n",
       "      <th>upi_number</th>\n",
       "      <th>age</th>\n",
       "      <th>trans_amount</th>\n",
       "      <th>state</th>\n",
       "      <th>zip</th>\n",
       "      <th>fraud_risk</th>\n",
       "    </tr>\n",
       "  </thead>\n",
       "  <tbody>\n",
       "    <tr>\n",
       "      <th>0</th>\n",
       "      <td>0</td>\n",
       "      <td>1</td>\n",
       "      <td>1</td>\n",
       "      <td>2022</td>\n",
       "      <td>12</td>\n",
       "      <td>9957000001</td>\n",
       "      <td>54</td>\n",
       "      <td>66.21</td>\n",
       "      <td>22</td>\n",
       "      <td>49879</td>\n",
       "      <td>0</td>\n",
       "    </tr>\n",
       "    <tr>\n",
       "      <th>1</th>\n",
       "      <td>1</td>\n",
       "      <td>1</td>\n",
       "      <td>1</td>\n",
       "      <td>2022</td>\n",
       "      <td>3</td>\n",
       "      <td>9957000002</td>\n",
       "      <td>15</td>\n",
       "      <td>55.81</td>\n",
       "      <td>14</td>\n",
       "      <td>62668</td>\n",
       "      <td>0</td>\n",
       "    </tr>\n",
       "    <tr>\n",
       "      <th>2</th>\n",
       "      <td>3</td>\n",
       "      <td>1</td>\n",
       "      <td>1</td>\n",
       "      <td>2022</td>\n",
       "      <td>8</td>\n",
       "      <td>9957000003</td>\n",
       "      <td>60</td>\n",
       "      <td>8.68</td>\n",
       "      <td>4</td>\n",
       "      <td>96037</td>\n",
       "      <td>0</td>\n",
       "    </tr>\n",
       "    <tr>\n",
       "      <th>3</th>\n",
       "      <td>6</td>\n",
       "      <td>1</td>\n",
       "      <td>1</td>\n",
       "      <td>2022</td>\n",
       "      <td>4</td>\n",
       "      <td>9957000004</td>\n",
       "      <td>44</td>\n",
       "      <td>89.52</td>\n",
       "      <td>40</td>\n",
       "      <td>29911</td>\n",
       "      <td>0</td>\n",
       "    </tr>\n",
       "    <tr>\n",
       "      <th>4</th>\n",
       "      <td>6</td>\n",
       "      <td>1</td>\n",
       "      <td>1</td>\n",
       "      <td>2022</td>\n",
       "      <td>0</td>\n",
       "      <td>9957000005</td>\n",
       "      <td>72</td>\n",
       "      <td>1.90</td>\n",
       "      <td>38</td>\n",
       "      <td>16421</td>\n",
       "      <td>0</td>\n",
       "    </tr>\n",
       "  </tbody>\n",
       "</table>\n",
       "</div>"
      ],
      "text/plain": [
       "   trans_hour  trans_day  trans_month  trans_year  category  upi_number  age  \\\n",
       "0           0          1            1        2022        12  9957000001   54   \n",
       "1           1          1            1        2022         3  9957000002   15   \n",
       "2           3          1            1        2022         8  9957000003   60   \n",
       "3           6          1            1        2022         4  9957000004   44   \n",
       "4           6          1            1        2022         0  9957000005   72   \n",
       "\n",
       "   trans_amount  state    zip  fraud_risk  \n",
       "0         66.21     22  49879           0  \n",
       "1         55.81     14  62668           0  \n",
       "2          8.68      4  96037           0  \n",
       "3         89.52     40  29911           0  \n",
       "4          1.90     38  16421           0  "
      ]
     },
     "execution_count": 3,
     "metadata": {},
     "output_type": "execute_result"
    }
   ],
   "source": [
    "dataset.head()"
   ]
  },
  {
   "cell_type": "code",
   "execution_count": 4,
   "metadata": {},
   "outputs": [],
   "source": [
    "import numpy as np"
   ]
  },
  {
   "cell_type": "code",
   "execution_count": 5,
   "metadata": {},
   "outputs": [],
   "source": [
    "x = dataset.iloc[ : , : 10].values\n",
    "y = dataset.iloc[ : , 10].values"
   ]
  },
  {
   "cell_type": "code",
   "execution_count": 6,
   "metadata": {},
   "outputs": [],
   "source": [
    "from sklearn.model_selection import train_test_split"
   ]
  },
  {
   "cell_type": "code",
   "execution_count": 7,
   "metadata": {},
   "outputs": [],
   "source": [
    "x_train, x_test, y_train, y_test = train_test_split(x, y, test_size = 0.15, random_state = 0)"
   ]
  },
  {
   "cell_type": "code",
   "execution_count": 8,
   "metadata": {},
   "outputs": [
    {
     "data": {
      "text/plain": [
       "(2266, 10)"
      ]
     },
     "execution_count": 8,
     "metadata": {},
     "output_type": "execute_result"
    }
   ],
   "source": [
    "x_train.shape"
   ]
  },
  {
   "cell_type": "code",
   "execution_count": 9,
   "metadata": {},
   "outputs": [
    {
     "data": {
      "text/plain": [
       "(400, 10)"
      ]
     },
     "execution_count": 9,
     "metadata": {},
     "output_type": "execute_result"
    }
   ],
   "source": [
    "x_test.shape"
   ]
  },
  {
   "cell_type": "code",
   "execution_count": 10,
   "metadata": {},
   "outputs": [],
   "source": [
    "fraud = np.count_nonzero(y_train == 1)\n",
    "valid = np.count_nonzero(y_train == 0)"
   ]
  },
  {
   "cell_type": "code",
   "execution_count": 11,
   "metadata": {
    "scrolled": true
   },
   "outputs": [
    {
     "name": "stdout",
     "output_type": "stream",
     "text": [
      "Fraud cases in training data = 1348\n",
      "Valid cases in training data = 918\n"
     ]
    }
   ],
   "source": [
    "print('Fraud cases in training data =', fraud)\n",
    "print('Valid cases in training data =', valid)"
   ]
  },
  {
   "cell_type": "code",
   "execution_count": 12,
   "metadata": {},
   "outputs": [],
   "source": [
    "from sklearn.preprocessing import StandardScaler\n",
    "scaler = StandardScaler()"
   ]
  },
  {
   "cell_type": "code",
   "execution_count": 13,
   "metadata": {},
   "outputs": [],
   "source": [
    "x_train = scaler.fit_transform(x_train)\n",
    "x_test = scaler.transform(x_test)"
   ]
  },
  {
   "cell_type": "code",
   "execution_count": 14,
   "metadata": {
    "scrolled": true
   },
   "outputs": [
    {
     "data": {
      "text/plain": [
       "array([[ 1.11287494,  0.23492331, -0.89608107,  0.        ,  0.0602433 ,\n",
       "         0.68096147,  0.83994401, -0.84340161, -0.45791225, -1.64639185],\n",
       "       [-1.1894848 , -0.92886509,  0.66178275,  0.        , -1.24483613,\n",
       "        -0.3824002 , -0.27301162, -0.83469894,  1.03866827, -0.4058421 ],\n",
       "       [ 1.11287494, -1.02584746,  2.53121934,  0.        ,  0.32125918,\n",
       "        -0.38240085,  1.63491233,  1.40609705, -0.31538077,  0.32896382],\n",
       "       [-1.1894848 ,  0.91379987, -0.89608107,  0.        , -1.24483613,\n",
       "        -1.11969157, -0.3790074 , -0.72010938, -0.24411503,  0.5966091 ],\n",
       "       [ 1.11287494,  0.42888804, -0.89608107,  0.        , -1.76686789,\n",
       "        -1.11969169, -0.8029905 ,  0.14610555,  1.18119975,  1.37176053]])"
      ]
     },
     "execution_count": 14,
     "metadata": {},
     "output_type": "execute_result"
    }
   ],
   "source": [
    "x_train[ : 5]"
   ]
  },
  {
   "cell_type": "code",
   "execution_count": 15,
   "metadata": {},
   "outputs": [
    {
     "data": {
      "text/plain": [
       "array([[ 0.99775696, -1.02584746,  0.66178275,  0.        , -1.50585201,\n",
       "        -0.38240103, -0.8029905 , -0.55231661, -0.24411503,  0.60587057],\n",
       "       [-1.30460278,  1.6896588 , -0.89608107,  0.        , -0.72280436,\n",
       "        -0.93972315,  0.09797359, -0.10066076, -1.66942982,  1.78976412],\n",
       "       [-1.07436681,  0.33190567, -0.27293554,  0.        , -1.24483613,\n",
       "        -0.38240071, -0.96198416, -0.63173177,  0.46854236, -1.33247671],\n",
       "       [ 0.53728501, -1.21981219,  0.66178275,  0.        ,  1.10430683,\n",
       "         1.8381786 ,  0.94593979,  1.36440214, -0.24411503,  0.62521842],\n",
       "       [ 0.07681306, -1.02584746, -0.27293554,  0.        , -0.20077259,\n",
       "        -0.38240113, -0.22001374, -0.63409578, -0.67170947,  0.8568677 ]])"
      ]
     },
     "execution_count": 15,
     "metadata": {},
     "output_type": "execute_result"
    }
   ],
   "source": [
    "x_test[ : 5]"
   ]
  },
  {
   "cell_type": "markdown",
   "metadata": {},
   "source": [
    "LOGISTIC REGRESSION (LR)"
   ]
  },
  {
   "cell_type": "code",
   "execution_count": 16,
   "metadata": {},
   "outputs": [
    {
     "data": {
      "text/plain": [
       "LogisticRegression(C=1.0, class_weight=None, dual=False, fit_intercept=True,\n",
       "                   intercept_scaling=1, l1_ratio=None, max_iter=100,\n",
       "                   multi_class='auto', n_jobs=None, penalty='l2',\n",
       "                   random_state=0, solver='lbfgs', tol=0.0001, verbose=0,\n",
       "                   warm_start=False)"
      ]
     },
     "execution_count": 16,
     "metadata": {},
     "output_type": "execute_result"
    }
   ],
   "source": [
    "from sklearn.linear_model import LogisticRegression\n",
    "LR_model = LogisticRegression(random_state = 0)\n",
    "LR_model.fit(x_train, y_train)"
   ]
  },
  {
   "cell_type": "code",
   "execution_count": 17,
   "metadata": {},
   "outputs": [],
   "source": [
    "y_pred = LR_model.predict(x_test)"
   ]
  },
  {
   "cell_type": "code",
   "execution_count": 18,
   "metadata": {},
   "outputs": [],
   "source": [
    "from sklearn.metrics import accuracy_score"
   ]
  },
  {
   "cell_type": "code",
   "execution_count": 19,
   "metadata": {},
   "outputs": [],
   "source": [
    "acc_lr = accuracy_score(y_test, y_pred)"
   ]
  },
  {
   "cell_type": "code",
   "execution_count": 20,
   "metadata": {},
   "outputs": [
    {
     "name": "stdout",
     "output_type": "stream",
     "text": [
      "0.8025\n"
     ]
    }
   ],
   "source": [
    "print(acc_lr)"
   ]
  },
  {
   "cell_type": "markdown",
   "metadata": {},
   "source": [
    "K-NEAREST NEIGHBORS (KNN)"
   ]
  },
  {
   "cell_type": "code",
   "execution_count": 21,
   "metadata": {},
   "outputs": [
    {
     "data": {
      "text/plain": [
       "KNeighborsClassifier(algorithm='auto', leaf_size=30, metric='minkowski',\n",
       "                     metric_params=None, n_jobs=None, n_neighbors=5, p=2,\n",
       "                     weights='uniform')"
      ]
     },
     "execution_count": 21,
     "metadata": {},
     "output_type": "execute_result"
    }
   ],
   "source": [
    "from sklearn.neighbors import KNeighborsClassifier\n",
    "KNN_model = KNeighborsClassifier(n_neighbors = 5, metric = 'minkowski', p = 2)\n",
    "KNN_model.fit(x_train, y_train)"
   ]
  },
  {
   "cell_type": "code",
   "execution_count": 22,
   "metadata": {},
   "outputs": [],
   "source": [
    "y_pred = KNN_model.predict(x_test)"
   ]
  },
  {
   "cell_type": "code",
   "execution_count": 23,
   "metadata": {},
   "outputs": [],
   "source": [
    "acc_knn = accuracy_score(y_test, y_pred)"
   ]
  },
  {
   "cell_type": "code",
   "execution_count": 24,
   "metadata": {},
   "outputs": [
    {
     "name": "stdout",
     "output_type": "stream",
     "text": [
      "0.83\n"
     ]
    }
   ],
   "source": [
    "print(acc_knn)"
   ]
  },
  {
   "cell_type": "markdown",
   "metadata": {},
   "source": [
    "SUPPORT VECTOR MACHINE (SVM)"
   ]
  },
  {
   "cell_type": "code",
   "execution_count": 25,
   "metadata": {},
   "outputs": [
    {
     "data": {
      "text/plain": [
       "SVC(C=1.0, break_ties=False, cache_size=200, class_weight=None, coef0=0.0,\n",
       "    decision_function_shape='ovr', degree=3, gamma='scale', kernel='linear',\n",
       "    max_iter=-1, probability=False, random_state=0, shrinking=True, tol=0.001,\n",
       "    verbose=False)"
      ]
     },
     "execution_count": 25,
     "metadata": {},
     "output_type": "execute_result"
    }
   ],
   "source": [
    "from sklearn.svm import SVC\n",
    "SVM_model = SVC(kernel = 'linear', random_state = 0)\n",
    "SVM_model.fit(x_train, y_train)"
   ]
  },
  {
   "cell_type": "code",
   "execution_count": 26,
   "metadata": {},
   "outputs": [],
   "source": [
    "y_pred = SVM_model.predict(x_test)"
   ]
  },
  {
   "cell_type": "code",
   "execution_count": 27,
   "metadata": {
    "scrolled": false
   },
   "outputs": [],
   "source": [
    "acc_svm = accuracy_score(y_test, y_pred)"
   ]
  },
  {
   "cell_type": "code",
   "execution_count": 28,
   "metadata": {},
   "outputs": [
    {
     "name": "stdout",
     "output_type": "stream",
     "text": [
      "0.815\n"
     ]
    }
   ],
   "source": [
    "print(acc_svm)"
   ]
  },
  {
   "cell_type": "markdown",
   "metadata": {},
   "source": [
    "NAIVE BAYES (NB)"
   ]
  },
  {
   "cell_type": "code",
   "execution_count": 29,
   "metadata": {},
   "outputs": [
    {
     "data": {
      "text/plain": [
       "GaussianNB(priors=None, var_smoothing=1e-09)"
      ]
     },
     "execution_count": 29,
     "metadata": {},
     "output_type": "execute_result"
    }
   ],
   "source": [
    "from sklearn.naive_bayes import GaussianNB\n",
    "NB_model = GaussianNB()\n",
    "NB_model.fit(x_train, y_train)"
   ]
  },
  {
   "cell_type": "code",
   "execution_count": 30,
   "metadata": {},
   "outputs": [],
   "source": [
    "y_pred = NB_model.predict(x_test)"
   ]
  },
  {
   "cell_type": "code",
   "execution_count": 31,
   "metadata": {},
   "outputs": [],
   "source": [
    "acc_nb = accuracy_score(y_test, y_pred)"
   ]
  },
  {
   "cell_type": "code",
   "execution_count": 32,
   "metadata": {},
   "outputs": [
    {
     "name": "stdout",
     "output_type": "stream",
     "text": [
      "0.8125\n"
     ]
    }
   ],
   "source": [
    "print(acc_nb)"
   ]
  },
  {
   "cell_type": "markdown",
   "metadata": {},
   "source": [
    "DECISION TREE (DT)"
   ]
  },
  {
   "cell_type": "code",
   "execution_count": 33,
   "metadata": {},
   "outputs": [
    {
     "data": {
      "text/plain": [
       "DecisionTreeClassifier(ccp_alpha=0.0, class_weight=None, criterion='entropy',\n",
       "                       max_depth=None, max_features=None, max_leaf_nodes=None,\n",
       "                       min_impurity_decrease=0.0, min_impurity_split=None,\n",
       "                       min_samples_leaf=1, min_samples_split=2,\n",
       "                       min_weight_fraction_leaf=0.0, presort='deprecated',\n",
       "                       random_state=0, splitter='best')"
      ]
     },
     "execution_count": 33,
     "metadata": {},
     "output_type": "execute_result"
    }
   ],
   "source": [
    "from sklearn.tree import DecisionTreeClassifier\n",
    "DT_model = DecisionTreeClassifier(criterion = 'entropy', random_state = 0)\n",
    "DT_model.fit(x_train, y_train)"
   ]
  },
  {
   "cell_type": "code",
   "execution_count": 34,
   "metadata": {},
   "outputs": [],
   "source": [
    "y_pred = DT_model.predict(x_test)"
   ]
  },
  {
   "cell_type": "code",
   "execution_count": 35,
   "metadata": {},
   "outputs": [],
   "source": [
    "acc_dt = accuracy_score(y_test, y_pred)"
   ]
  },
  {
   "cell_type": "code",
   "execution_count": 36,
   "metadata": {},
   "outputs": [
    {
     "name": "stdout",
     "output_type": "stream",
     "text": [
      "0.9475\n"
     ]
    }
   ],
   "source": [
    "print(acc_dt)"
   ]
  },
  {
   "cell_type": "markdown",
   "metadata": {},
   "source": [
    "RANDOM FOREST (RF)"
   ]
  },
  {
   "cell_type": "code",
   "execution_count": 37,
   "metadata": {},
   "outputs": [
    {
     "data": {
      "text/plain": [
       "RandomForestClassifier(bootstrap=True, ccp_alpha=0.0, class_weight=None,\n",
       "                       criterion='gini', max_depth=None, max_features='auto',\n",
       "                       max_leaf_nodes=None, max_samples=None,\n",
       "                       min_impurity_decrease=0.0, min_impurity_split=None,\n",
       "                       min_samples_leaf=1, min_samples_split=2,\n",
       "                       min_weight_fraction_leaf=0.0, n_estimators=100,\n",
       "                       n_jobs=None, oob_score=False, random_state=None,\n",
       "                       verbose=0, warm_start=False)"
      ]
     },
     "execution_count": 37,
     "metadata": {},
     "output_type": "execute_result"
    }
   ],
   "source": [
    "from sklearn.ensemble import RandomForestClassifier\n",
    "RF_model = RandomForestClassifier()\n",
    "RF_model.fit(x_train, y_train)"
   ]
  },
  {
   "cell_type": "code",
   "execution_count": 38,
   "metadata": {},
   "outputs": [],
   "source": [
    "y_pred = RF_model.predict(x_test)"
   ]
  },
  {
   "cell_type": "code",
   "execution_count": 39,
   "metadata": {},
   "outputs": [],
   "source": [
    "acc_rf = accuracy_score(y_test, y_pred)"
   ]
  },
  {
   "cell_type": "code",
   "execution_count": 40,
   "metadata": {},
   "outputs": [
    {
     "name": "stdout",
     "output_type": "stream",
     "text": [
      "0.955\n"
     ]
    }
   ],
   "source": [
    "print(acc_rf)"
   ]
  },
  {
   "cell_type": "markdown",
   "metadata": {},
   "source": [
    "CONVOLUTIONAL NEURAL NETWORK (CNN)"
   ]
  },
  {
   "cell_type": "code",
   "execution_count": 41,
   "metadata": {},
   "outputs": [
    {
     "name": "stderr",
     "output_type": "stream",
     "text": [
      "C:\\Users\\TUSHAR HIRAWAT\\AppData\\Local\\Programs\\Python\\Python37\\lib\\site-packages\\tensorflow\\python\\framework\\dtypes.py:516: FutureWarning: Passing (type, 1) or '1type' as a synonym of type is deprecated; in a future version of numpy, it will be understood as (type, (1,)) / '(1,)type'.\n",
      "  _np_qint8 = np.dtype([(\"qint8\", np.int8, 1)])\n",
      "C:\\Users\\TUSHAR HIRAWAT\\AppData\\Local\\Programs\\Python\\Python37\\lib\\site-packages\\tensorflow\\python\\framework\\dtypes.py:517: FutureWarning: Passing (type, 1) or '1type' as a synonym of type is deprecated; in a future version of numpy, it will be understood as (type, (1,)) / '(1,)type'.\n",
      "  _np_quint8 = np.dtype([(\"quint8\", np.uint8, 1)])\n",
      "C:\\Users\\TUSHAR HIRAWAT\\AppData\\Local\\Programs\\Python\\Python37\\lib\\site-packages\\tensorflow\\python\\framework\\dtypes.py:518: FutureWarning: Passing (type, 1) or '1type' as a synonym of type is deprecated; in a future version of numpy, it will be understood as (type, (1,)) / '(1,)type'.\n",
      "  _np_qint16 = np.dtype([(\"qint16\", np.int16, 1)])\n",
      "C:\\Users\\TUSHAR HIRAWAT\\AppData\\Local\\Programs\\Python\\Python37\\lib\\site-packages\\tensorflow\\python\\framework\\dtypes.py:519: FutureWarning: Passing (type, 1) or '1type' as a synonym of type is deprecated; in a future version of numpy, it will be understood as (type, (1,)) / '(1,)type'.\n",
      "  _np_quint16 = np.dtype([(\"quint16\", np.uint16, 1)])\n",
      "C:\\Users\\TUSHAR HIRAWAT\\AppData\\Local\\Programs\\Python\\Python37\\lib\\site-packages\\tensorflow\\python\\framework\\dtypes.py:520: FutureWarning: Passing (type, 1) or '1type' as a synonym of type is deprecated; in a future version of numpy, it will be understood as (type, (1,)) / '(1,)type'.\n",
      "  _np_qint32 = np.dtype([(\"qint32\", np.int32, 1)])\n",
      "C:\\Users\\TUSHAR HIRAWAT\\AppData\\Local\\Programs\\Python\\Python37\\lib\\site-packages\\tensorflow\\python\\framework\\dtypes.py:525: FutureWarning: Passing (type, 1) or '1type' as a synonym of type is deprecated; in a future version of numpy, it will be understood as (type, (1,)) / '(1,)type'.\n",
      "  np_resource = np.dtype([(\"resource\", np.ubyte, 1)])\n",
      "C:\\Users\\TUSHAR HIRAWAT\\AppData\\Local\\Programs\\Python\\Python37\\lib\\site-packages\\tensorboard\\compat\\tensorflow_stub\\dtypes.py:541: FutureWarning: Passing (type, 1) or '1type' as a synonym of type is deprecated; in a future version of numpy, it will be understood as (type, (1,)) / '(1,)type'.\n",
      "  _np_qint8 = np.dtype([(\"qint8\", np.int8, 1)])\n",
      "C:\\Users\\TUSHAR HIRAWAT\\AppData\\Local\\Programs\\Python\\Python37\\lib\\site-packages\\tensorboard\\compat\\tensorflow_stub\\dtypes.py:542: FutureWarning: Passing (type, 1) or '1type' as a synonym of type is deprecated; in a future version of numpy, it will be understood as (type, (1,)) / '(1,)type'.\n",
      "  _np_quint8 = np.dtype([(\"quint8\", np.uint8, 1)])\n",
      "C:\\Users\\TUSHAR HIRAWAT\\AppData\\Local\\Programs\\Python\\Python37\\lib\\site-packages\\tensorboard\\compat\\tensorflow_stub\\dtypes.py:543: FutureWarning: Passing (type, 1) or '1type' as a synonym of type is deprecated; in a future version of numpy, it will be understood as (type, (1,)) / '(1,)type'.\n",
      "  _np_qint16 = np.dtype([(\"qint16\", np.int16, 1)])\n",
      "C:\\Users\\TUSHAR HIRAWAT\\AppData\\Local\\Programs\\Python\\Python37\\lib\\site-packages\\tensorboard\\compat\\tensorflow_stub\\dtypes.py:544: FutureWarning: Passing (type, 1) or '1type' as a synonym of type is deprecated; in a future version of numpy, it will be understood as (type, (1,)) / '(1,)type'.\n",
      "  _np_quint16 = np.dtype([(\"quint16\", np.uint16, 1)])\n",
      "C:\\Users\\TUSHAR HIRAWAT\\AppData\\Local\\Programs\\Python\\Python37\\lib\\site-packages\\tensorboard\\compat\\tensorflow_stub\\dtypes.py:545: FutureWarning: Passing (type, 1) or '1type' as a synonym of type is deprecated; in a future version of numpy, it will be understood as (type, (1,)) / '(1,)type'.\n",
      "  _np_qint32 = np.dtype([(\"qint32\", np.int32, 1)])\n",
      "C:\\Users\\TUSHAR HIRAWAT\\AppData\\Local\\Programs\\Python\\Python37\\lib\\site-packages\\tensorboard\\compat\\tensorflow_stub\\dtypes.py:550: FutureWarning: Passing (type, 1) or '1type' as a synonym of type is deprecated; in a future version of numpy, it will be understood as (type, (1,)) / '(1,)type'.\n",
      "  np_resource = np.dtype([(\"resource\", np.ubyte, 1)])\n"
     ]
    }
   ],
   "source": [
    "import tensorflow as tf"
   ]
  },
  {
   "cell_type": "code",
   "execution_count": 42,
   "metadata": {},
   "outputs": [],
   "source": [
    "CNN_model = tf.keras.models.Sequential()"
   ]
  },
  {
   "cell_type": "code",
   "execution_count": 43,
   "metadata": {},
   "outputs": [
    {
     "name": "stdout",
     "output_type": "stream",
     "text": [
      "WARNING:tensorflow:From C:\\Users\\TUSHAR HIRAWAT\\AppData\\Local\\Programs\\Python\\Python37\\lib\\site-packages\\tensorflow\\python\\ops\\init_ops.py:1251: calling VarianceScaling.__init__ (from tensorflow.python.ops.init_ops) with dtype is deprecated and will be removed in a future version.\n",
      "Instructions for updating:\n",
      "Call initializer instance with the dtype argument instead of passing it to the constructor\n"
     ]
    }
   ],
   "source": [
    "CNN_model.add(tf.keras.layers.Dense(64, input_dim = 10, activation = 'relu'))\n",
    "CNN_model.add(tf.keras.layers.Dense(128, activation = 'relu'))\n",
    "CNN_model.add(tf.keras.layers.Dense(1, activation = 'sigmoid'))"
   ]
  },
  {
   "cell_type": "code",
   "execution_count": 44,
   "metadata": {},
   "outputs": [
    {
     "name": "stdout",
     "output_type": "stream",
     "text": [
      "WARNING:tensorflow:From C:\\Users\\TUSHAR HIRAWAT\\AppData\\Local\\Programs\\Python\\Python37\\lib\\site-packages\\tensorflow\\python\\ops\\nn_impl.py:180: add_dispatch_support.<locals>.wrapper (from tensorflow.python.ops.array_ops) is deprecated and will be removed in a future version.\n",
      "Instructions for updating:\n",
      "Use tf.where in 2.0, which has the same broadcast rule as np.where\n"
     ]
    }
   ],
   "source": [
    "CNN_model.compile(optimizer = 'adam', loss = 'binary_crossentropy', metrics = ['accuracy'])"
   ]
  },
  {
   "cell_type": "code",
   "execution_count": 45,
   "metadata": {
    "scrolled": true
   },
   "outputs": [
    {
     "name": "stdout",
     "output_type": "stream",
     "text": [
      "Epoch 1/200\n",
      "2266/2266 [==============================] - 1s 308us/sample - loss: 0.5131 - acc: 0.7410\n",
      "Epoch 2/200\n",
      "2266/2266 [==============================] - 0s 154us/sample - loss: 0.4013 - acc: 0.8129\n",
      "Epoch 3/200\n",
      "2266/2266 [==============================] - 0s 148us/sample - loss: 0.3666 - acc: 0.8327\n",
      "Epoch 4/200\n",
      "2266/2266 [==============================] - 0s 96us/sample - loss: 0.3413 - acc: 0.8380\n",
      "Epoch 5/200\n",
      "2266/2266 [==============================] - 0s 135us/sample - loss: 0.3274 - acc: 0.8539\n",
      "Epoch 6/200\n",
      "2266/2266 [==============================] - 0s 113us/sample - loss: 0.3200 - acc: 0.8663\n",
      "Epoch 7/200\n",
      "2266/2266 [==============================] - 0s 105us/sample - loss: 0.3051 - acc: 0.8663\n",
      "Epoch 8/200\n",
      "2266/2266 [==============================] - 0s 118us/sample - loss: 0.3034 - acc: 0.8619\n",
      "Epoch 9/200\n",
      "2266/2266 [==============================] - 0s 103us/sample - loss: 0.2981 - acc: 0.8689\n",
      "Epoch 10/200\n",
      "2266/2266 [==============================] - 0s 100us/sample - loss: 0.2908 - acc: 0.8760\n",
      "Epoch 11/200\n",
      "2266/2266 [==============================] - 0s 131us/sample - loss: 0.2874 - acc: 0.8725\n",
      "Epoch 12/200\n",
      "2266/2266 [==============================] - 0s 96us/sample - loss: 0.2881 - acc: 0.8725\n",
      "Epoch 13/200\n",
      "2266/2266 [==============================] - 0s 110us/sample - loss: 0.2808 - acc: 0.8760\n",
      "Epoch 14/200\n",
      "2266/2266 [==============================] - 0s 114us/sample - loss: 0.2795 - acc: 0.8747\n",
      "Epoch 15/200\n",
      "2266/2266 [==============================] - 0s 101us/sample - loss: 0.2763 - acc: 0.8804\n",
      "Epoch 16/200\n",
      "2266/2266 [==============================] - 0s 103us/sample - loss: 0.2748 - acc: 0.8747\n",
      "Epoch 17/200\n",
      "2266/2266 [==============================] - 0s 128us/sample - loss: 0.2706 - acc: 0.8822\n",
      "Epoch 18/200\n",
      "2266/2266 [==============================] - 0s 111us/sample - loss: 0.2659 - acc: 0.8822\n",
      "Epoch 19/200\n",
      "2266/2266 [==============================] - 0s 99us/sample - loss: 0.2639 - acc: 0.8791\n",
      "Epoch 20/200\n",
      "2266/2266 [==============================] - 0s 139us/sample - loss: 0.2588 - acc: 0.8883\n",
      "Epoch 21/200\n",
      "2266/2266 [==============================] - 0s 102us/sample - loss: 0.2647 - acc: 0.8826\n",
      "Epoch 22/200\n",
      "2266/2266 [==============================] - 0s 136us/sample - loss: 0.2584 - acc: 0.8883\n",
      "Epoch 23/200\n",
      "2266/2266 [==============================] - 0s 134us/sample - loss: 0.2531 - acc: 0.8848\n",
      "Epoch 24/200\n",
      "2266/2266 [==============================] - 0s 110us/sample - loss: 0.2506 - acc: 0.8914\n",
      "Epoch 25/200\n",
      "2266/2266 [==============================] - 0s 200us/sample - loss: 0.2509 - acc: 0.8906\n",
      "Epoch 26/200\n",
      "2266/2266 [==============================] - 0s 177us/sample - loss: 0.2523 - acc: 0.8848\n",
      "Epoch 27/200\n",
      "2266/2266 [==============================] - 0s 180us/sample - loss: 0.2464 - acc: 0.8936\n",
      "Epoch 28/200\n",
      "2266/2266 [==============================] - 0s 183us/sample - loss: 0.2414 - acc: 0.8892\n",
      "Epoch 29/200\n",
      "2266/2266 [==============================] - 0s 196us/sample - loss: 0.2361 - acc: 0.9003\n",
      "Epoch 30/200\n",
      "2266/2266 [==============================] - 0s 125us/sample - loss: 0.2365 - acc: 0.8989\n",
      "Epoch 31/200\n",
      "2266/2266 [==============================] - 0s 113us/sample - loss: 0.2331 - acc: 0.9020\n",
      "Epoch 32/200\n",
      "2266/2266 [==============================] - 0s 135us/sample - loss: 0.2341 - acc: 0.8994\n",
      "Epoch 33/200\n",
      "2266/2266 [==============================] - 0s 176us/sample - loss: 0.2322 - acc: 0.9029\n",
      "Epoch 34/200\n",
      "2266/2266 [==============================] - 0s 127us/sample - loss: 0.2248 - acc: 0.9011\n",
      "Epoch 35/200\n",
      "2266/2266 [==============================] - 0s 127us/sample - loss: 0.2276 - acc: 0.8985\n",
      "Epoch 36/200\n",
      "2266/2266 [==============================] - 0s 170us/sample - loss: 0.2223 - acc: 0.8976\n",
      "Epoch 37/200\n",
      "2266/2266 [==============================] - 0s 132us/sample - loss: 0.2188 - acc: 0.9064\n",
      "Epoch 38/200\n",
      "2266/2266 [==============================] - 0s 128us/sample - loss: 0.2187 - acc: 0.9051\n",
      "Epoch 39/200\n",
      "2266/2266 [==============================] - 0s 140us/sample - loss: 0.2144 - acc: 0.9113\n",
      "Epoch 40/200\n",
      "2266/2266 [==============================] - 0s 112us/sample - loss: 0.2128 - acc: 0.9109\n",
      "Epoch 41/200\n",
      "2266/2266 [==============================] - 0s 120us/sample - loss: 0.2157 - acc: 0.9078\n",
      "Epoch 42/200\n",
      "2266/2266 [==============================] - 0s 110us/sample - loss: 0.2093 - acc: 0.9104\n",
      "Epoch 43/200\n",
      "2266/2266 [==============================] - 0s 130us/sample - loss: 0.2029 - acc: 0.9126\n",
      "Epoch 44/200\n",
      "2266/2266 [==============================] - 0s 108us/sample - loss: 0.2035 - acc: 0.9139\n",
      "Epoch 45/200\n",
      "2266/2266 [==============================] - 0s 115us/sample - loss: 0.2023 - acc: 0.9170\n",
      "Epoch 46/200\n",
      "2266/2266 [==============================] - 0s 110us/sample - loss: 0.1988 - acc: 0.9126\n",
      "Epoch 47/200\n",
      "2266/2266 [==============================] - 0s 128us/sample - loss: 0.1977 - acc: 0.9166\n",
      "Epoch 48/200\n",
      "2266/2266 [==============================] - 0s 112us/sample - loss: 0.1945 - acc: 0.9197\n",
      "Epoch 49/200\n",
      "2266/2266 [==============================] - 0s 109us/sample - loss: 0.1925 - acc: 0.9179\n",
      "Epoch 50/200\n",
      "2266/2266 [==============================] - 0s 111us/sample - loss: 0.1915 - acc: 0.9179\n",
      "Epoch 51/200\n",
      "2266/2266 [==============================] - 0s 112us/sample - loss: 0.1842 - acc: 0.9219\n",
      "Epoch 52/200\n",
      "2266/2266 [==============================] - 0s 102us/sample - loss: 0.1827 - acc: 0.9197\n",
      "Epoch 53/200\n",
      "2266/2266 [==============================] - 0s 124us/sample - loss: 0.1800 - acc: 0.9223\n",
      "Epoch 54/200\n",
      "2266/2266 [==============================] - 0s 109us/sample - loss: 0.1811 - acc: 0.9250\n",
      "Epoch 55/200\n",
      "2266/2266 [==============================] - 0s 129us/sample - loss: 0.1798 - acc: 0.9241\n",
      "Epoch 56/200\n",
      "2266/2266 [==============================] - 0s 115us/sample - loss: 0.1741 - acc: 0.9250\n",
      "Epoch 57/200\n",
      "2266/2266 [==============================] - 0s 127us/sample - loss: 0.1719 - acc: 0.9272\n",
      "Epoch 58/200\n",
      "2266/2266 [==============================] - 0s 100us/sample - loss: 0.1727 - acc: 0.9259\n",
      "Epoch 59/200\n",
      "2266/2266 [==============================] - 0s 130us/sample - loss: 0.1706 - acc: 0.9303\n",
      "Epoch 60/200\n",
      "2266/2266 [==============================] - 0s 111us/sample - loss: 0.1679 - acc: 0.9312\n",
      "Epoch 61/200\n",
      "2266/2266 [==============================] - 0s 114us/sample - loss: 0.1660 - acc: 0.9360\n",
      "Epoch 62/200\n",
      "2266/2266 [==============================] - 0s 104us/sample - loss: 0.1638 - acc: 0.9312\n",
      "Epoch 63/200\n",
      "2266/2266 [==============================] - 0s 104us/sample - loss: 0.1596 - acc: 0.9365\n",
      "Epoch 64/200\n",
      "2266/2266 [==============================] - 0s 119us/sample - loss: 0.1607 - acc: 0.9351\n",
      "Epoch 65/200\n",
      "2266/2266 [==============================] - 0s 100us/sample - loss: 0.1591 - acc: 0.9369\n",
      "Epoch 66/200\n",
      "2266/2266 [==============================] - 0s 134us/sample - loss: 0.1584 - acc: 0.9373\n",
      "Epoch 67/200\n",
      "2266/2266 [==============================] - 0s 129us/sample - loss: 0.1521 - acc: 0.9400\n",
      "Epoch 68/200\n",
      "2266/2266 [==============================] - 0s 112us/sample - loss: 0.1531 - acc: 0.9387\n",
      "Epoch 69/200\n",
      "2266/2266 [==============================] - 0s 133us/sample - loss: 0.1506 - acc: 0.9373\n",
      "Epoch 70/200\n",
      "2266/2266 [==============================] - 0s 160us/sample - loss: 0.1475 - acc: 0.9426\n",
      "Epoch 71/200\n",
      "2266/2266 [==============================] - 0s 172us/sample - loss: 0.1471 - acc: 0.9435\n",
      "Epoch 72/200\n",
      "2266/2266 [==============================] - 0s 117us/sample - loss: 0.1415 - acc: 0.9457\n",
      "Epoch 73/200\n",
      "2266/2266 [==============================] - 0s 137us/sample - loss: 0.1413 - acc: 0.9470\n",
      "Epoch 74/200\n",
      "2266/2266 [==============================] - 0s 124us/sample - loss: 0.1409 - acc: 0.9444\n",
      "Epoch 75/200\n",
      "2266/2266 [==============================] - 0s 121us/sample - loss: 0.1371 - acc: 0.9475\n",
      "Epoch 76/200\n",
      "2266/2266 [==============================] - 0s 185us/sample - loss: 0.1380 - acc: 0.9457\n",
      "Epoch 77/200\n",
      "2266/2266 [==============================] - 0s 145us/sample - loss: 0.1352 - acc: 0.9457\n",
      "Epoch 78/200\n",
      "2266/2266 [==============================] - 0s 116us/sample - loss: 0.1337 - acc: 0.9484\n",
      "Epoch 79/200\n",
      "2266/2266 [==============================] - 0s 106us/sample - loss: 0.1321 - acc: 0.9475\n",
      "Epoch 80/200\n"
     ]
    },
    {
     "name": "stdout",
     "output_type": "stream",
     "text": [
      "2266/2266 [==============================] - 0s 125us/sample - loss: 0.1306 - acc: 0.9506\n",
      "Epoch 81/200\n",
      "2266/2266 [==============================] - 0s 118us/sample - loss: 0.1269 - acc: 0.9523\n",
      "Epoch 82/200\n",
      "2266/2266 [==============================] - 0s 118us/sample - loss: 0.1244 - acc: 0.9541\n",
      "Epoch 83/200\n",
      "2266/2266 [==============================] - 0s 97us/sample - loss: 0.1213 - acc: 0.9554\n",
      "Epoch 84/200\n",
      "2266/2266 [==============================] - 0s 114us/sample - loss: 0.1203 - acc: 0.9581\n",
      "Epoch 85/200\n",
      "2266/2266 [==============================] - 0s 100us/sample - loss: 0.1193 - acc: 0.9554\n",
      "Epoch 86/200\n",
      "2266/2266 [==============================] - 0s 111us/sample - loss: 0.1184 - acc: 0.9528\n",
      "Epoch 87/200\n",
      "2266/2266 [==============================] - 0s 102us/sample - loss: 0.1192 - acc: 0.9550\n",
      "Epoch 88/200\n",
      "2266/2266 [==============================] - 0s 95us/sample - loss: 0.1149 - acc: 0.9598\n",
      "Epoch 89/200\n",
      "2266/2266 [==============================] - 0s 115us/sample - loss: 0.1187 - acc: 0.9523\n",
      "Epoch 90/200\n",
      "2266/2266 [==============================] - 0s 91us/sample - loss: 0.1137 - acc: 0.9572\n",
      "Epoch 91/200\n",
      "2266/2266 [==============================] - 0s 128us/sample - loss: 0.1092 - acc: 0.9660\n",
      "Epoch 92/200\n",
      "2266/2266 [==============================] - 0s 115us/sample - loss: 0.1125 - acc: 0.9603\n",
      "Epoch 93/200\n",
      "2266/2266 [==============================] - 0s 104us/sample - loss: 0.1031 - acc: 0.9647\n",
      "Epoch 94/200\n",
      "2266/2266 [==============================] - 0s 125us/sample - loss: 0.1061 - acc: 0.9638\n",
      "Epoch 95/200\n",
      "2266/2266 [==============================] - 0s 92us/sample - loss: 0.0979 - acc: 0.9678\n",
      "Epoch 96/200\n",
      "2266/2266 [==============================] - 0s 111us/sample - loss: 0.0992 - acc: 0.9665\n",
      "Epoch 97/200\n",
      "2266/2266 [==============================] - 0s 115us/sample - loss: 0.0968 - acc: 0.9665\n",
      "Epoch 98/200\n",
      "2266/2266 [==============================] - 0s 121us/sample - loss: 0.0959 - acc: 0.9669\n",
      "Epoch 99/200\n",
      "2266/2266 [==============================] - 0s 102us/sample - loss: 0.0943 - acc: 0.9673\n",
      "Epoch 100/200\n",
      "2266/2266 [==============================] - 0s 122us/sample - loss: 0.0933 - acc: 0.9682\n",
      "Epoch 101/200\n",
      "2266/2266 [==============================] - 0s 101us/sample - loss: 0.0933 - acc: 0.9700\n",
      "Epoch 102/200\n",
      "2266/2266 [==============================] - 0s 116us/sample - loss: 0.0897 - acc: 0.9700\n",
      "Epoch 103/200\n",
      "2266/2266 [==============================] - 0s 118us/sample - loss: 0.0839 - acc: 0.9748\n",
      "Epoch 104/200\n",
      "2266/2266 [==============================] - 0s 116us/sample - loss: 0.0867 - acc: 0.9691\n",
      "Epoch 105/200\n",
      "2266/2266 [==============================] - 0s 120us/sample - loss: 0.0844 - acc: 0.9726\n",
      "Epoch 106/200\n",
      "2266/2266 [==============================] - 0s 117us/sample - loss: 0.0827 - acc: 0.9762\n",
      "Epoch 107/200\n",
      "2266/2266 [==============================] - 0s 126us/sample - loss: 0.0789 - acc: 0.9753\n",
      "Epoch 108/200\n",
      "2266/2266 [==============================] - 0s 107us/sample - loss: 0.0811 - acc: 0.9740\n",
      "Epoch 109/200\n",
      "2266/2266 [==============================] - 0s 157us/sample - loss: 0.0790 - acc: 0.9771\n",
      "Epoch 110/200\n",
      "2266/2266 [==============================] - 0s 127us/sample - loss: 0.0780 - acc: 0.9793\n",
      "Epoch 111/200\n",
      "2266/2266 [==============================] - 0s 105us/sample - loss: 0.0754 - acc: 0.9797\n",
      "Epoch 112/200\n",
      "2266/2266 [==============================] - 0s 142us/sample - loss: 0.0746 - acc: 0.9753\n",
      "Epoch 113/200\n",
      "2266/2266 [==============================] - 0s 99us/sample - loss: 0.0750 - acc: 0.9766\n",
      "Epoch 114/200\n",
      "2266/2266 [==============================] - 0s 98us/sample - loss: 0.0752 - acc: 0.9771\n",
      "Epoch 115/200\n",
      "2266/2266 [==============================] - 0s 122us/sample - loss: 0.0708 - acc: 0.9793\n",
      "Epoch 116/200\n",
      "2266/2266 [==============================] - 0s 109us/sample - loss: 0.0715 - acc: 0.9779\n",
      "Epoch 117/200\n",
      "2266/2266 [==============================] - 0s 117us/sample - loss: 0.0709 - acc: 0.9797\n",
      "Epoch 118/200\n",
      "2266/2266 [==============================] - 0s 114us/sample - loss: 0.0687 - acc: 0.9797\n",
      "Epoch 119/200\n",
      "2266/2266 [==============================] - 0s 119us/sample - loss: 0.0676 - acc: 0.9828\n",
      "Epoch 120/200\n",
      "2266/2266 [==============================] - 0s 131us/sample - loss: 0.0666 - acc: 0.9819\n",
      "Epoch 121/200\n",
      "2266/2266 [==============================] - 0s 107us/sample - loss: 0.0615 - acc: 0.9841\n",
      "Epoch 122/200\n",
      "2266/2266 [==============================] - 0s 109us/sample - loss: 0.0625 - acc: 0.9837\n",
      "Epoch 123/200\n",
      "2266/2266 [==============================] - 0s 114us/sample - loss: 0.0610 - acc: 0.9828\n",
      "Epoch 124/200\n",
      "2266/2266 [==============================] - 0s 106us/sample - loss: 0.0615 - acc: 0.9837\n",
      "Epoch 125/200\n",
      "2266/2266 [==============================] - 0s 124us/sample - loss: 0.0576 - acc: 0.9859\n",
      "Epoch 126/200\n",
      "2266/2266 [==============================] - 0s 109us/sample - loss: 0.0587 - acc: 0.9850\n",
      "Epoch 127/200\n",
      "2266/2266 [==============================] - 0s 104us/sample - loss: 0.0533 - acc: 0.9872\n",
      "Epoch 128/200\n",
      "2266/2266 [==============================] - 0s 124us/sample - loss: 0.0568 - acc: 0.9859\n",
      "Epoch 129/200\n",
      "2266/2266 [==============================] - 0s 121us/sample - loss: 0.0577 - acc: 0.9828\n",
      "Epoch 130/200\n",
      "2266/2266 [==============================] - 0s 131us/sample - loss: 0.0543 - acc: 0.9885\n",
      "Epoch 131/200\n",
      "2266/2266 [==============================] - 0s 126us/sample - loss: 0.0568 - acc: 0.9850\n",
      "Epoch 132/200\n",
      "2266/2266 [==============================] - 0s 122us/sample - loss: 0.0508 - acc: 0.9894\n",
      "Epoch 133/200\n",
      "2266/2266 [==============================] - 0s 115us/sample - loss: 0.0521 - acc: 0.9881\n",
      "Epoch 134/200\n",
      "2266/2266 [==============================] - 0s 114us/sample - loss: 0.0472 - acc: 0.9907\n",
      "Epoch 135/200\n",
      "2266/2266 [==============================] - 0s 112us/sample - loss: 0.0483 - acc: 0.9872\n",
      "Epoch 136/200\n",
      "2266/2266 [==============================] - 0s 132us/sample - loss: 0.0460 - acc: 0.9903\n",
      "Epoch 137/200\n",
      "2266/2266 [==============================] - 0s 116us/sample - loss: 0.0469 - acc: 0.9912\n",
      "Epoch 138/200\n",
      "2266/2266 [==============================] - 0s 128us/sample - loss: 0.0437 - acc: 0.9912\n",
      "Epoch 139/200\n",
      "2266/2266 [==============================] - 0s 122us/sample - loss: 0.0417 - acc: 0.9934\n",
      "Epoch 140/200\n",
      "2266/2266 [==============================] - 0s 133us/sample - loss: 0.0441 - acc: 0.9912\n",
      "Epoch 141/200\n",
      "2266/2266 [==============================] - 0s 140us/sample - loss: 0.0423 - acc: 0.9903\n",
      "Epoch 142/200\n",
      "2266/2266 [==============================] - 0s 127us/sample - loss: 0.0397 - acc: 0.9938\n",
      "Epoch 143/200\n",
      "2266/2266 [==============================] - 0s 120us/sample - loss: 0.0437 - acc: 0.9894\n",
      "Epoch 144/200\n",
      "2266/2266 [==============================] - 0s 135us/sample - loss: 0.0405 - acc: 0.9898\n",
      "Epoch 145/200\n",
      "2266/2266 [==============================] - 0s 126us/sample - loss: 0.0404 - acc: 0.9903\n",
      "Epoch 146/200\n",
      "2266/2266 [==============================] - 0s 136us/sample - loss: 0.0374 - acc: 0.9925\n",
      "Epoch 147/200\n",
      "2266/2266 [==============================] - 0s 133us/sample - loss: 0.0380 - acc: 0.9925\n",
      "Epoch 148/200\n",
      "2266/2266 [==============================] - 0s 182us/sample - loss: 0.0367 - acc: 0.9925\n",
      "Epoch 149/200\n",
      "2266/2266 [==============================] - 0s 114us/sample - loss: 0.0391 - acc: 0.9921\n",
      "Epoch 150/200\n",
      "2266/2266 [==============================] - 0s 137us/sample - loss: 0.0434 - acc: 0.9894\n",
      "Epoch 151/200\n",
      "2266/2266 [==============================] - 0s 122us/sample - loss: 0.0395 - acc: 0.9916\n",
      "Epoch 152/200\n",
      "2266/2266 [==============================] - 0s 123us/sample - loss: 0.0380 - acc: 0.9912\n",
      "Epoch 153/200\n",
      "2266/2266 [==============================] - 0s 128us/sample - loss: 0.0326 - acc: 0.9951\n",
      "Epoch 154/200\n",
      "2266/2266 [==============================] - 0s 113us/sample - loss: 0.0300 - acc: 0.9956\n",
      "Epoch 155/200\n",
      "2266/2266 [==============================] - 0s 136us/sample - loss: 0.0322 - acc: 0.9951\n",
      "Epoch 156/200\n",
      "2266/2266 [==============================] - 0s 120us/sample - loss: 0.0309 - acc: 0.9943\n",
      "Epoch 157/200\n",
      "2266/2266 [==============================] - 0s 121us/sample - loss: 0.0288 - acc: 0.9943\n",
      "Epoch 158/200\n",
      "2266/2266 [==============================] - 0s 80us/sample - loss: 0.0324 - acc: 0.9929\n",
      "Epoch 159/200\n"
     ]
    },
    {
     "name": "stdout",
     "output_type": "stream",
     "text": [
      "2266/2266 [==============================] - 0s 69us/sample - loss: 0.0375 - acc: 0.9881\n",
      "Epoch 160/200\n",
      "2266/2266 [==============================] - 0s 83us/sample - loss: 0.0304 - acc: 0.9929\n",
      "Epoch 161/200\n",
      "2266/2266 [==============================] - 0s 116us/sample - loss: 0.0345 - acc: 0.9916\n",
      "Epoch 162/200\n",
      "2266/2266 [==============================] - 0s 108us/sample - loss: 0.0266 - acc: 0.9951\n",
      "Epoch 163/200\n",
      "2266/2266 [==============================] - 0s 122us/sample - loss: 0.0267 - acc: 0.9956\n",
      "Epoch 164/200\n",
      "2266/2266 [==============================] - 0s 110us/sample - loss: 0.0282 - acc: 0.9943\n",
      "Epoch 165/200\n",
      "2266/2266 [==============================] - 0s 128us/sample - loss: 0.0304 - acc: 0.9934\n",
      "Epoch 166/200\n",
      "2266/2266 [==============================] - 0s 111us/sample - loss: 0.0319 - acc: 0.9925\n",
      "Epoch 167/200\n",
      "2266/2266 [==============================] - 0s 129us/sample - loss: 0.0250 - acc: 0.9938\n",
      "Epoch 168/200\n",
      "2266/2266 [==============================] - 0s 105us/sample - loss: 0.0226 - acc: 0.9974\n",
      "Epoch 169/200\n",
      "2266/2266 [==============================] - 0s 103us/sample - loss: 0.0211 - acc: 0.9969\n",
      "Epoch 170/200\n",
      "2266/2266 [==============================] - 0s 128us/sample - loss: 0.0239 - acc: 0.9969\n",
      "Epoch 171/200\n",
      "2266/2266 [==============================] - 0s 110us/sample - loss: 0.0202 - acc: 0.9991\n",
      "Epoch 172/200\n",
      "2266/2266 [==============================] - 0s 116us/sample - loss: 0.0207 - acc: 0.9987\n",
      "Epoch 173/200\n",
      "2266/2266 [==============================] - 0s 113us/sample - loss: 0.0221 - acc: 0.9969\n",
      "Epoch 174/200\n",
      "2266/2266 [==============================] - 0s 107us/sample - loss: 0.0280 - acc: 0.9938\n",
      "Epoch 175/200\n",
      "2266/2266 [==============================] - 0s 128us/sample - loss: 0.0201 - acc: 0.9969\n",
      "Epoch 176/200\n",
      "2266/2266 [==============================] - 0s 122us/sample - loss: 0.0203 - acc: 0.9978\n",
      "Epoch 177/200\n",
      "2266/2266 [==============================] - 0s 131us/sample - loss: 0.0208 - acc: 0.9960\n",
      "Epoch 178/200\n",
      "2266/2266 [==============================] - 0s 107us/sample - loss: 0.0209 - acc: 0.9978\n",
      "Epoch 179/200\n",
      "2266/2266 [==============================] - 0s 110us/sample - loss: 0.0195 - acc: 0.9960\n",
      "Epoch 180/200\n",
      "2266/2266 [==============================] - 0s 129us/sample - loss: 0.0197 - acc: 0.9987\n",
      "Epoch 181/200\n",
      "2266/2266 [==============================] - 0s 139us/sample - loss: 0.0204 - acc: 0.9969\n",
      "Epoch 182/200\n",
      "2266/2266 [==============================] - 0s 132us/sample - loss: 0.0200 - acc: 0.9978\n",
      "Epoch 183/200\n",
      "2266/2266 [==============================] - 0s 129us/sample - loss: 0.0176 - acc: 0.9982\n",
      "Epoch 184/200\n",
      "2266/2266 [==============================] - 0s 138us/sample - loss: 0.0164 - acc: 0.9987\n",
      "Epoch 185/200\n",
      "2266/2266 [==============================] - 0s 154us/sample - loss: 0.0145 - acc: 0.9987\n",
      "Epoch 186/200\n",
      "2266/2266 [==============================] - 0s 138us/sample - loss: 0.0146 - acc: 0.9991\n",
      "Epoch 187/200\n",
      "2266/2266 [==============================] - 0s 128us/sample - loss: 0.0178 - acc: 0.9982\n",
      "Epoch 188/200\n",
      "2266/2266 [==============================] - 0s 120us/sample - loss: 0.0162 - acc: 0.9982\n",
      "Epoch 189/200\n",
      "2266/2266 [==============================] - 0s 112us/sample - loss: 0.0161 - acc: 0.9987\n",
      "Epoch 190/200\n",
      "2266/2266 [==============================] - 0s 121us/sample - loss: 0.0158 - acc: 0.9978\n",
      "Epoch 191/200\n",
      "2266/2266 [==============================] - 0s 129us/sample - loss: 0.0158 - acc: 0.9978\n",
      "Epoch 192/200\n",
      "2266/2266 [==============================] - 0s 132us/sample - loss: 0.0166 - acc: 0.9974\n",
      "Epoch 193/200\n",
      "2266/2266 [==============================] - 0s 163us/sample - loss: 0.0537 - acc: 0.9797\n",
      "Epoch 194/200\n",
      "2266/2266 [==============================] - 0s 115us/sample - loss: 0.0283 - acc: 0.9912\n",
      "Epoch 195/200\n",
      "2266/2266 [==============================] - 0s 123us/sample - loss: 0.0255 - acc: 0.9951\n",
      "Epoch 196/200\n",
      "2266/2266 [==============================] - 0s 130us/sample - loss: 0.0134 - acc: 0.9978\n",
      "Epoch 197/200\n",
      "2266/2266 [==============================] - 0s 130us/sample - loss: 0.0125 - acc: 0.9991\n",
      "Epoch 198/200\n",
      "2266/2266 [==============================] - 0s 110us/sample - loss: 0.0119 - acc: 0.9996\n",
      "Epoch 199/200\n",
      "2266/2266 [==============================] - 0s 130us/sample - loss: 0.0122 - acc: 0.9987\n",
      "Epoch 200/200\n",
      "2266/2266 [==============================] - 0s 137us/sample - loss: 0.0104 - acc: 1.0000\n"
     ]
    },
    {
     "data": {
      "text/plain": [
       "<tensorflow.python.keras.callbacks.History at 0x20e1b6002e8>"
      ]
     },
     "execution_count": 45,
     "metadata": {},
     "output_type": "execute_result"
    }
   ],
   "source": [
    "CNN_model.fit(x_train, y_train, batch_size = 32, epochs = 200)"
   ]
  },
  {
   "cell_type": "code",
   "execution_count": 46,
   "metadata": {},
   "outputs": [],
   "source": [
    "loss, acc_cnn = CNN_model.evaluate(x_train, y_train, verbose = 0)"
   ]
  },
  {
   "cell_type": "code",
   "execution_count": 47,
   "metadata": {},
   "outputs": [
    {
     "name": "stdout",
     "output_type": "stream",
     "text": [
      "0.9995587\n"
     ]
    }
   ],
   "source": [
    "print(acc_cnn)"
   ]
  },
  {
   "cell_type": "code",
   "execution_count": 48,
   "metadata": {},
   "outputs": [],
   "source": [
    "y_pred = CNN_model.predict(x_test)\n",
    "y_pred[y_pred <= 0.5] = 0\n",
    "y_pred[y_pred > 0.5] = 1"
   ]
  },
  {
   "cell_type": "markdown",
   "metadata": {},
   "source": [
    "ACCURACY COMPARISON OF ALL THE MODELS"
   ]
  },
  {
   "cell_type": "code",
   "execution_count": 49,
   "metadata": {},
   "outputs": [],
   "source": [
    "scores = [acc_lr * 100,\n",
    "          acc_knn * 100,\n",
    "          acc_svm * 100,\n",
    "          acc_nb * 100,\n",
    "          acc_dt * 100,\n",
    "          acc_rf * 100,\n",
    "          acc_cnn * 100]"
   ]
  },
  {
   "cell_type": "code",
   "execution_count": 50,
   "metadata": {},
   "outputs": [],
   "source": [
    "names = [\"Logistic Regression\",\n",
    "        \"K-Nearest Neighbors\",\n",
    "        \"Support Vector Machine\",\n",
    "        \"Naive Bayes\",\n",
    "        \"Decision Tree\",\n",
    "        \"Random Forest\",\n",
    "        \"Convolutional Neural Network\"]"
   ]
  },
  {
   "cell_type": "code",
   "execution_count": 51,
   "metadata": {},
   "outputs": [],
   "source": [
    "df = pd.DataFrame()\n",
    "df['Algorithm Name'] = names\n",
    "df['Accuracy Score (%)'] = scores\n",
    "df = df.sort_values('Accuracy Score (%)', ascending = False)"
   ]
  },
  {
   "cell_type": "code",
   "execution_count": 52,
   "metadata": {
    "scrolled": true
   },
   "outputs": [
    {
     "data": {
      "text/html": [
       "<div>\n",
       "<style scoped>\n",
       "    .dataframe tbody tr th:only-of-type {\n",
       "        vertical-align: middle;\n",
       "    }\n",
       "\n",
       "    .dataframe tbody tr th {\n",
       "        vertical-align: top;\n",
       "    }\n",
       "\n",
       "    .dataframe thead th {\n",
       "        text-align: right;\n",
       "    }\n",
       "</style>\n",
       "<table border=\"1\" class=\"dataframe\">\n",
       "  <thead>\n",
       "    <tr style=\"text-align: right;\">\n",
       "      <th></th>\n",
       "      <th>Algorithm Name</th>\n",
       "      <th>Accuracy Score (%)</th>\n",
       "    </tr>\n",
       "  </thead>\n",
       "  <tbody>\n",
       "    <tr>\n",
       "      <th>6</th>\n",
       "      <td>Convolutional Neural Network</td>\n",
       "      <td>99.955869</td>\n",
       "    </tr>\n",
       "    <tr>\n",
       "      <th>5</th>\n",
       "      <td>Random Forest</td>\n",
       "      <td>95.500000</td>\n",
       "    </tr>\n",
       "    <tr>\n",
       "      <th>4</th>\n",
       "      <td>Decision Tree</td>\n",
       "      <td>94.750000</td>\n",
       "    </tr>\n",
       "    <tr>\n",
       "      <th>1</th>\n",
       "      <td>K-Nearest Neighbors</td>\n",
       "      <td>83.000000</td>\n",
       "    </tr>\n",
       "    <tr>\n",
       "      <th>2</th>\n",
       "      <td>Support Vector Machine</td>\n",
       "      <td>81.500000</td>\n",
       "    </tr>\n",
       "    <tr>\n",
       "      <th>3</th>\n",
       "      <td>Naive Bayes</td>\n",
       "      <td>81.250000</td>\n",
       "    </tr>\n",
       "    <tr>\n",
       "      <th>0</th>\n",
       "      <td>Logistic Regression</td>\n",
       "      <td>80.250000</td>\n",
       "    </tr>\n",
       "  </tbody>\n",
       "</table>\n",
       "</div>"
      ],
      "text/plain": [
       "                 Algorithm Name  Accuracy Score (%)\n",
       "6  Convolutional Neural Network           99.955869\n",
       "5                 Random Forest           95.500000\n",
       "4                 Decision Tree           94.750000\n",
       "1           K-Nearest Neighbors           83.000000\n",
       "2        Support Vector Machine           81.500000\n",
       "3                   Naive Bayes           81.250000\n",
       "0           Logistic Regression           80.250000"
      ]
     },
     "execution_count": 52,
     "metadata": {},
     "output_type": "execute_result"
    }
   ],
   "source": [
    "df"
   ]
  },
  {
   "cell_type": "code",
   "execution_count": 53,
   "metadata": {},
   "outputs": [],
   "source": [
    "import matplotlib.pyplot as plt\n",
    "import seaborn as sns"
   ]
  },
  {
   "cell_type": "code",
   "execution_count": 54,
   "metadata": {
    "scrolled": true
   },
   "outputs": [
    {
     "data": {
      "image/png": "[encoded data removed]",
      "text/plain": [
       "<Figure size 720x360 with 1 Axes>"
      ]
     },
     "metadata": {
      "needs_background": "light"
     },
     "output_type": "display_data"
    }
   ],
   "source": [
    "fig = plt.subplots(figsize = (10, 5))\n",
    "ax = sns.barplot(x = \"Accuracy Score (%)\", y = \"Algorithm Name\", data = df)"
   ]
  },
  {
   "cell_type": "markdown",
   "metadata": {},
   "source": [
    "SAVING THE BEST TRAINED MODEL"
   ]
  },
  {
   "cell_type": "code",
   "execution_count": 55,
   "metadata": {},
   "outputs": [],
   "source": [
    "import os.path"
   ]
  },
  {
   "cell_type": "code",
   "execution_count": 57,
   "metadata": {},
   "outputs": [],
   "source": [
    "if os.path.isfile('../model/project_model1.h5') is False:\n",
    "    CNN_model.save('../model/project_model1.h5')"
   ]
  },
  {
   "cell_type": "code",
   "execution_count": null,
   "metadata": {},
   "outputs": [],
   "source": []
  }
 ],
 "metadata": {
  "kernelspec": {
   "display_name": "Python 3 (ipykernel)",
   "language": "python",
   "name": "python3"
  },
  "language_info": {
   "codemirror_mode": {
    "name": "ipython",
    "version": 3
   },
   "file_extension": ".py",
   "mimetype": "text/x-python",
   "name": "python",
   "nbconvert_exporter": "python",
   "pygments_lexer": "ipython3",
   "version": "3.7.0"
  }
 },
 "nbformat": 4,
 "nbformat_minor": 4
}
